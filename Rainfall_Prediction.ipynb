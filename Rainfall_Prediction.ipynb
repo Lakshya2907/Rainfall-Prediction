{
 "cells": [
  {
   "cell_type": "code",
   "execution_count": 1,
   "id": "3a6c34ef-c202-40be-9e81-c47d4f6ee32c",
   "metadata": {},
   "outputs": [
    {
     "name": "stdout",
     "output_type": "stream",
     "text": [
      "Note: you may need to restart the kernel to use updated packages.\n"
     ]
    }
   ],
   "source": [
    "pip install scikit-learn --upgrade --quiet"
   ]
  },
  {
   "cell_type": "code",
   "execution_count": 2,
   "id": "68158e0e-9ffa-4d5d-bb6f-c8319c9a3a7b",
   "metadata": {},
   "outputs": [
    {
     "name": "stdout",
     "output_type": "stream",
     "text": [
      "Note: you may need to restart the kernel to use updated packages.\n"
     ]
    }
   ],
   "source": [
    "pip install opendatasets --upgrade --quiet"
   ]
  },
  {
   "cell_type": "code",
   "execution_count": 3,
   "id": "7cbab23c-65c3-47ff-ad7a-3c08183c6064",
   "metadata": {},
   "outputs": [],
   "source": [
    "import opendatasets as od"
   ]
  },
  {
   "cell_type": "code",
   "execution_count": 4,
   "id": "a269dba8-7ade-4926-a4b1-a9894d408417",
   "metadata": {},
   "outputs": [
    {
     "data": {
      "text/plain": [
       "'0.1.22'"
      ]
     },
     "execution_count": 4,
     "metadata": {},
     "output_type": "execute_result"
    }
   ],
   "source": [
    "od.version()"
   ]
  },
  {
   "cell_type": "code",
   "execution_count": 5,
   "id": "ecb73148-db1a-4bd3-99fc-92233b7d875c",
   "metadata": {},
   "outputs": [
    {
     "name": "stdout",
     "output_type": "stream",
     "text": [
      "Skipping, found downloaded files in \".\\weather-dataset-rattle-package\" (use force=True to force download)\n"
     ]
    }
   ],
   "source": [
    "data_url = \"https://www.kaggle.com/jsphyg/weather-dataset-rattle-package\"\n",
    "od.download(data_url)"
   ]
  },
  {
   "cell_type": "code",
   "execution_count": null,
   "id": "ff21f848-5013-476c-a184-4693280ef735",
   "metadata": {},
   "outputs": [],
   "source": []
  }
 ],
 "metadata": {
  "kernelspec": {
   "display_name": "Python 3 (ipykernel)",
   "language": "python",
   "name": "python3"
  },
  "language_info": {
   "codemirror_mode": {
    "name": "ipython",
    "version": 3
   },
   "file_extension": ".py",
   "mimetype": "text/x-python",
   "name": "python",
   "nbconvert_exporter": "python",
   "pygments_lexer": "ipython3",
   "version": "3.11.7"
  }
 },
 "nbformat": 4,
 "nbformat_minor": 5
}
